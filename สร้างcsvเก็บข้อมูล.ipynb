{
  "nbformat": 4,
  "nbformat_minor": 0,
  "metadata": {
    "colab": {
      "provenance": [],
      "authorship_tag": "ABX9TyMiTuLv91X90XAMBY8nIpIR",
      "include_colab_link": true
    },
    "kernelspec": {
      "name": "python3",
      "display_name": "Python 3"
    },
    "language_info": {
      "name": "python"
    }
  },
  "cells": [
    {
      "cell_type": "markdown",
      "metadata": {
        "id": "view-in-github",
        "colab_type": "text"
      },
      "source": [
        "<a href=\"https://colab.research.google.com/github/Athitiya00/Human_age/blob/main/%E0%B8%AA%E0%B8%A3%E0%B9%89%E0%B8%B2%E0%B8%87csv%E0%B9%80%E0%B8%81%E0%B9%87%E0%B8%9A%E0%B8%82%E0%B9%89%E0%B8%AD%E0%B8%A1%E0%B8%B9%E0%B8%A5.ipynb\" target=\"_parent\"><img src=\"https://colab.research.google.com/assets/colab-badge.svg\" alt=\"Open In Colab\"/></a>"
      ]
    },
    {
      "cell_type": "code",
      "execution_count": 1,
      "metadata": {
        "colab": {
          "base_uri": "https://localhost:8080/"
        },
        "id": "wF3ZCdok6tY_",
        "outputId": "5dbf148c-7697-4112-de62-aedd0cc85bf3"
      },
      "outputs": [
        {
          "output_type": "stream",
          "name": "stdout",
          "text": [
            "Mounted at /content/drive\n"
          ]
        }
      ],
      "source": [
        "from google.colab import drive ## เชื่อมต่อ Drive \n",
        "drive.mount('/content/drive')"
      ]
    },
    {
      "cell_type": "code",
      "source": [
        "import os ## import os เลือกเส้นทางในการเชื่อมต่อ ทำการเลือก folder ที่ใช้เก็บ data ในที่นี้คือ Project_dataviz22\n",
        "path = '/content/drive/My Drive/Human_age'"
      ],
      "metadata": {
        "id": "VwiLmnGV66DX"
      },
      "execution_count": 2,
      "outputs": []
    },
    {
      "cell_type": "code",
      "source": [
        "import pandas as pd ## ทำการ import pandas ในชื่อ pd เพื่อใช้ในการเขียนโค้ด\n",
        "import numpy as np ##ทำการ import numpy ในชื่อ np เพื่อใช้ในการเขียนโค้ด"
      ],
      "metadata": {
        "id": "SMMKZZEZ7dmj"
      },
      "execution_count": 3,
      "outputs": []
    }
  ]
}